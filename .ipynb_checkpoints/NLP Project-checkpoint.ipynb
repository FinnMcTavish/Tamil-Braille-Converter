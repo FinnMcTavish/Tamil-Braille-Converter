{
 "cells": [
  {
   "cell_type": "code",
   "execution_count": 11,
   "id": "5f3d1d9a",
   "metadata": {},
   "outputs": [],
   "source": [
    "def split_tamil_sentence(sentence):\n",
    "    tamil_chars = []\n",
    "    for char in sentence:\n",
    "        tamil_chars.append(char)\n",
    "    return tamil_chars\n"
   ]
  },
  {
   "cell_type": "code",
   "execution_count": 4,
   "id": "3d405c64",
   "metadata": {},
   "outputs": [
    {
     "name": "stdout",
     "output_type": "stream",
     "text": [
      "['அ', 'ஆ', 'இ', 'ஈ', 'உ', 'ஊ', 'எ', 'ஏ', 'ஐ', 'ஒ', 'ஓ', 'ஔ', 'க', 'ங', 'ச', 'ஞ', 'ட', 'ண', 'த', 'ந', 'ன', 'ப', 'ம', 'ய', 'ர', 'ற', 'ல', 'ள', 'ழ', 'வ', 'ஜ', 'ஷ', 'ஹ', 'க்', 'கா', 'கி', 'கீ', 'கு', 'கூ', 'கெ', 'கே', 'கை', 'கொ', 'கோ', 'கௌ', 'ங்', 'ஙா', 'ஙி', 'ஙீ', 'ஙு', 'ஙூ', 'ஙெ', 'ஙே', 'ஙை', 'ஙொ', 'ஙோ', 'ஙௌ', 'ச்', 'சா', 'சி', 'சீ', 'சு', 'சூ', 'செ', 'சே', 'சை', 'சொ', 'சோ', 'சௌ', 'ஞ்', 'ஞா', 'ஞி', 'ஞீ', 'ஞு', 'ஞூ', 'ஞெ', 'ஞே', 'ஞை', 'ஞொ', 'ஞோ', 'ஞௌ', 'ட்', 'டா', 'டி', 'டீ', 'டு', 'டூ', 'டெ', 'டே', 'டை', 'டொ', 'டோ', 'டௌ', 'ண்', 'ணா', 'ணி', 'ணீ', 'ணு', 'ணூ', 'ணெ', 'ணே', 'ணை', 'ணொ', 'ணோ', 'ணௌ', 'த்', 'தா', 'தி', 'தீ', 'து', 'தூ', 'தெ', 'தே', 'தை', 'தொ', 'தோ', 'தௌ', 'ந்', 'நா', 'நி', 'நீ', 'நு', 'நூ', 'நெ', 'நே', 'நை', 'நொ', 'நோ', 'நௌ', 'ன்', 'னா', 'னி', 'னீ', 'னு', 'னூ', 'னெ', 'னே', 'னை', 'னொ', 'னோ', 'னௌ', 'ப்', 'பா', 'பி', 'பீ', 'பு', 'பூ', 'பெ', 'பே', 'பை', 'பொ', 'போ', 'பௌ', 'ம்', 'மா', 'மி', 'மீ', 'மு', 'மூ', 'மெ', 'மே', 'மை', 'மொ', 'மோ', 'மௌ', 'ய்', 'யா', 'யி', 'யீ', 'யு', 'யூ', 'யெ', 'யே', 'யை', 'யொ', 'யோ', 'யௌ', 'ர்', 'ரா', 'ரி', 'ரீ', 'ரு', 'ரூ', 'ரெ', 'ரே', 'ரை', 'ரொ', 'ரோ', 'ரௌ', 'ற்', 'றா', 'றி', 'றீ', 'று', 'றூ', 'றெ', 'றே', 'றை', 'றொ', 'றோ', 'றௌ', 'ல்', 'லா', 'லி', 'லீ', 'லு', 'லூ', 'லெ', 'லே', 'லை', 'லொ', 'லோ', 'லௌ', 'ள்', 'ளா', 'ளி', 'ளீ', 'ளு', 'ளூ', 'ளெ', 'ளே', 'ளை', 'ளொ', 'ளோ', 'ளௌ', 'ழ்', 'ழா', 'ழி', 'ழீ', 'ழு', 'ழூ', 'ழெ', 'ழே', 'ழை', 'ழொ', 'ழோ', 'ழௌ', 'வ்', 'வா', 'வி', 'வீ', 'வு', 'வூ', 'வெ', 'வே', 'வை', 'வொ', 'வோ', 'வௌ', 'ஜ்', 'ஜா', 'ஜி', 'ஜீ', 'ஜு', 'ஜூ', 'ஜெ', 'ஜே', 'ஜை', 'ஜொ', 'ஜோ', 'ஜௌ', 'ஷ்', 'ஷா', 'ஷி', 'ஷீ', 'ஷு', 'ஷூ', 'ஷெ', 'ஷே', 'ஷை', 'ஷொ', 'ஷோ', 'ஷௌ', 'ஹ்', 'ஹா', 'ஹி', 'ஹீ', 'ஹு', 'ஹூ', 'ஹெ', 'ஹே', 'ஹை', 'ஹொ', 'ஹோ', 'ஹௌ', 'ஃ']\n",
      "286\n"
     ]
    }
   ],
   "source": [
    "tamil_characters = []\n",
    "\n",
    "# Adding Tamil vowels\n",
    "tamil_vowels = ['அ', 'ஆ', 'இ', 'ஈ', 'உ', 'ஊ', 'எ', 'ஏ', 'ஐ', 'ஒ', 'ஓ', 'ஔ']\n",
    "tamil_characters.extend(tamil_vowels)\n",
    "\n",
    "# Adding Tamil consonants\n",
    "tamil_consonants = ['க', 'ங', 'ச', 'ஞ', 'ட', 'ண', 'த', 'ந', 'ன', 'ப', 'ம', 'ய', 'ர', 'ற', 'ல', 'ள', 'ழ', 'வ','ஜ','ஷ','ஹ']\n",
    "tamil_characters.extend(tamil_consonants)\n",
    "\n",
    "# Adding Tamil compound letters\n",
    "for consonant in tamil_consonants:\n",
    "    for vowel in ['்','ா','ி','ீ','ு','ூ','ெ','ே','ை','ொ','ோ','ௌ']:\n",
    "        tamil_characters.append(consonant + vowel)\n",
    "\n",
    "# Adding Aytham\n",
    "tamil_characters.append('ஃ')\n",
    "\n",
    "print(tamil_characters)\n",
    "print(len(tamil_characters))"
   ]
  },
  {
   "cell_type": "code",
   "execution_count": 7,
   "id": "562b1c88",
   "metadata": {},
   "outputs": [
    {
     "name": "stdout",
     "output_type": "stream",
     "text": [
      "என் பெயர் சரனேஷ்\n",
      "எ\n",
      "ன\n",
      "்\n",
      " \n",
      "ப\n",
      "ெ\n",
      "ய\n",
      "ர\n",
      "்\n",
      " \n",
      "ச\n",
      "ர\n",
      "ன\n",
      "ே\n",
      "ஷ\n",
      "்\n"
     ]
    },
    {
     "data": {
      "text/plain": [
       "16"
      ]
     },
     "execution_count": 7,
     "metadata": {},
     "output_type": "execute_result"
    }
   ],
   "source": [
    "letter = 'என் பெயர் சரனேஷ்'\n",
    "print(letter)\n",
    "for char in letter:\n",
    "    print(char)\n",
    "len(letter)"
   ]
  },
  {
   "cell_type": "code",
   "execution_count": 27,
   "id": "13e2207b",
   "metadata": {},
   "outputs": [],
   "source": [
    "braille_map = {\n",
    "    \"அ\": \"⠁\",\n",
    "    \"ஆ\": \"⠜\",\n",
    "    \"இ\": \"⠊\",\n",
    "    \"ஈ\": \"⠔\",\n",
    "    \"உ\": \"⠥\",\n",
    "    \"ஊ\": \"⠳\",\n",
    "    \"எ\": \"⠢\",\n",
    "    \"ஏ\": \"⠑\",\n",
    "    \"ஐ\": \"⠌\",\n",
    "    \"ஒ\": \"⠭\",\n",
    "    \"ஓ\": \"⠕\",\n",
    "    \"ஔ\": \"⠪\",\n",
    "    \"க\": \"⠅\",\n",
    "    \"ங\": \"⠬\",\n",
    "    \"ச\": \"⠉\",\n",
    "    \"ஞ\": \"⠒\",\n",
    "    \"ட\": \"⠾\",\n",
    "    \"ண\": \"⠼\",\n",
    "    \"த\": \"⠞\",\n",
    "    \"ந\": \"⠝\",\n",
    "    \"ப\": \"⠏\",\n",
    "    \"ம\": \"⠍\",\n",
    "    \"ய\": \"⠽\",\n",
    "    \"ர\": \"⠗\",\n",
    "    \"ல\": \"⠇\",\n",
    "    \"வ\": \"⠧\",\n",
    "    \"ழ\": \"⠷\",\n",
    "    \"ள\": \"⠸\",\n",
    "    \"ற\": \"⠻\",\n",
    "    \"ன\": \"⠰\",\n",
    "    \"ஜ\": \"⠚\",\n",
    "    \"ஷ\": \"⠯\",\n",
    "    \"ஸ\": \"⠎\",\n",
    "    \"்\": \"⠰\",\n",
    "    \"ஃ\": \"⠠\",\n",
    "    'ா':\"⠜\",\n",
    "    'ி':\"⠊\",\n",
    "    'ீ':\"⠔\",\n",
    "    'ு':\"⠥\",\n",
    "    'ூ':\"⠳\",\n",
    "    'ெ':\"⠢\",\n",
    "    'ே':\"⠑\",\n",
    "    'ை':\"⠌\",\n",
    "    'ொ':\"⠭\",\n",
    "    'ோ':\"⠪\",\n",
    "    'ௌ':\"⠪\",\n",
    "    ' ':\" \"\n",
    "}"
   ]
  },
  {
   "cell_type": "code",
   "execution_count": 28,
   "id": "1e98e4b3",
   "metadata": {},
   "outputs": [],
   "source": [
    "def tamil_to_braille(text):\n",
    "    # Convert each Tamil letter to its corresponding Braille symbol\n",
    "    braille = \"\"\n",
    "    for letter in text:\n",
    "        braille += braille_map.get(letter, letter)\n",
    "    return braille"
   ]
  },
  {
   "cell_type": "code",
   "execution_count": 29,
   "id": "493fc542",
   "metadata": {},
   "outputs": [
    {
     "name": "stdout",
     "output_type": "stream",
     "text": [
      "⠢⠰⠰ ⠏⠢⠽⠗⠰ ⠉⠗⠰⠑⠯⠰\n"
     ]
    }
   ],
   "source": [
    "text = \"என் பெயர் சரனேஷ்\"\n",
    "braille = tamil_to_braille(text)\n",
    "print(braille)\n"
   ]
  },
  {
   "cell_type": "code",
   "execution_count": null,
   "id": "e1ac6edc",
   "metadata": {},
   "outputs": [],
   "source": []
  }
 ],
 "metadata": {
  "kernelspec": {
   "display_name": "Python 3 (ipykernel)",
   "language": "python",
   "name": "python3"
  },
  "language_info": {
   "codemirror_mode": {
    "name": "ipython",
    "version": 3
   },
   "file_extension": ".py",
   "mimetype": "text/x-python",
   "name": "python",
   "nbconvert_exporter": "python",
   "pygments_lexer": "ipython3",
   "version": "3.10.0"
  }
 },
 "nbformat": 4,
 "nbformat_minor": 5
}
